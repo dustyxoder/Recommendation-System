{
  "metadata": {
    "kernelspec": {
      "language": "python",
      "display_name": "Python 3",
      "name": "python3"
    },
    "language_info": {
      "name": "python",
      "version": "3.7.12",
      "mimetype": "text/x-python",
      "codemirror_mode": {
        "name": "ipython",
        "version": 3
      },
      "pygments_lexer": "ipython3",
      "nbconvert_exporter": "python",
      "file_extension": ".py"
    },
    "colab": {
      "provenance": [],
      "include_colab_link": true
    }
  },
  "nbformat_minor": 0,
  "nbformat": 4,
  "cells": [
    {
      "cell_type": "markdown",
      "metadata": {
        "id": "view-in-github",
        "colab_type": "text"
      },
      "source": [
        "<a href=\"https://colab.research.google.com/github/dustyxoder/Recommendation-System/blob/main/content_based_recommendation_system.ipynb\" target=\"_parent\"><img src=\"https://colab.research.google.com/assets/colab-badge.svg\" alt=\"Open In Colab\"/></a>"
      ]
    },
    {
      "cell_type": "code",
      "source": [
        "import numpy as np \n",
        "import pandas as pd \n",
        "import warnings\n",
        "import matplotlib.pyplot as plt\n",
        "import seaborn as sns"
      ],
      "metadata": {
        "_uuid": "8f2839f25d086af736a60e9eeb907d3b93b6e0e5",
        "_cell_guid": "b1076dfc-b9ad-4769-8c92-a6c4dae69d19",
        "execution": {
          "iopub.status.busy": "2022-10-17T18:43:11.367203Z",
          "iopub.execute_input": "2022-10-17T18:43:11.367494Z",
          "iopub.status.idle": "2022-10-17T18:43:12.479407Z",
          "shell.execute_reply.started": "2022-10-17T18:43:11.367463Z",
          "shell.execute_reply": "2022-10-17T18:43:12.478766Z"
        },
        "trusted": true,
        "id": "e_LsVx4IOUEn"
      },
      "execution_count": 1,
      "outputs": []
    },
    {
      "cell_type": "code",
      "source": [
        "warnings.filterwarnings('ignore')"
      ],
      "metadata": {
        "execution": {
          "iopub.status.busy": "2022-10-17T18:43:18.255972Z",
          "iopub.execute_input": "2022-10-17T18:43:18.256499Z",
          "iopub.status.idle": "2022-10-17T18:43:18.260141Z",
          "shell.execute_reply.started": "2022-10-17T18:43:18.256463Z",
          "shell.execute_reply": "2022-10-17T18:43:18.259426Z"
        },
        "trusted": true,
        "id": "DTi1JWUTOUEo"
      },
      "execution_count": 2,
      "outputs": []
    },
    {
      "cell_type": "code",
      "source": [
        "rawdata = pd.read_csv(\"/content/u.data\",sep=\"\\t\",names=[\"user_id\",\"item_id\",\"rating\",\"timestamp\"])"
      ],
      "metadata": {
        "execution": {
          "iopub.status.busy": "2022-10-17T18:43:27.875303Z",
          "iopub.execute_input": "2022-10-17T18:43:27.875844Z",
          "iopub.status.idle": "2022-10-17T18:43:27.919353Z",
          "shell.execute_reply.started": "2022-10-17T18:43:27.875798Z",
          "shell.execute_reply": "2022-10-17T18:43:27.918226Z"
        },
        "trusted": true,
        "id": "JrpMO_3xOUEo"
      },
      "execution_count": 3,
      "outputs": []
    },
    {
      "cell_type": "code",
      "source": [
        "rawdata[\"user_id\"].nunique()\n",
        "rawdata[\"item_id\"].nunique()"
      ],
      "metadata": {
        "execution": {
          "iopub.status.busy": "2022-02-11T08:19:44.391654Z",
          "iopub.execute_input": "2022-02-11T08:19:44.392059Z",
          "iopub.status.idle": "2022-02-11T08:19:44.399009Z",
          "shell.execute_reply.started": "2022-02-11T08:19:44.392008Z",
          "shell.execute_reply": "2022-02-11T08:19:44.398287Z"
        },
        "trusted": true,
        "colab": {
          "base_uri": "https://localhost:8080/"
        },
        "id": "Eoij1qOzOUEo",
        "outputId": "0f8d84cc-fec8-43d7-8494-920726faf72b"
      },
      "execution_count": 4,
      "outputs": [
        {
          "output_type": "execute_result",
          "data": {
            "text/plain": [
              "1682"
            ]
          },
          "metadata": {},
          "execution_count": 4
        }
      ]
    },
    {
      "cell_type": "code",
      "source": [
        "movie_titles=pd.read_csv(\"/content/u.item\",encoding='latin-1',sep=\"\\|\",header=None)\n",
        "movie_titles"
      ],
      "metadata": {
        "execution": {
          "iopub.status.busy": "2022-02-11T08:19:44.412732Z",
          "iopub.execute_input": "2022-02-11T08:19:44.413643Z",
          "iopub.status.idle": "2022-02-11T08:19:44.474822Z",
          "shell.execute_reply.started": "2022-02-11T08:19:44.413595Z",
          "shell.execute_reply": "2022-02-11T08:19:44.474Z"
        },
        "trusted": true,
        "id": "QFhNE_kCOUEp"
      },
      "execution_count": null,
      "outputs": []
    },
    {
      "cell_type": "code",
      "source": [
        "movie_titles=movie_titles[[0,1]]\n",
        "movie_titles"
      ],
      "metadata": {
        "execution": {
          "iopub.status.busy": "2022-02-11T08:19:44.515383Z",
          "iopub.execute_input": "2022-02-11T08:19:44.515794Z",
          "iopub.status.idle": "2022-02-11T08:19:44.530308Z",
          "shell.execute_reply.started": "2022-02-11T08:19:44.515746Z",
          "shell.execute_reply": "2022-02-11T08:19:44.529462Z"
        },
        "trusted": true,
        "id": "SFZfyxhqOUEp"
      },
      "execution_count": null,
      "outputs": []
    },
    {
      "cell_type": "code",
      "source": [
        "movie_titles.columns=[\"item_id\",\"title\"]\n",
        "movie_titles.head()"
      ],
      "metadata": {
        "execution": {
          "iopub.status.busy": "2022-02-11T08:19:44.531623Z",
          "iopub.execute_input": "2022-02-11T08:19:44.532351Z",
          "iopub.status.idle": "2022-02-11T08:19:44.541091Z",
          "shell.execute_reply.started": "2022-02-11T08:19:44.532295Z",
          "shell.execute_reply": "2022-02-11T08:19:44.540023Z"
        },
        "trusted": true,
        "id": "o9MtNBBdOUEp"
      },
      "execution_count": null,
      "outputs": []
    },
    {
      "cell_type": "code",
      "source": [
        "df=pd.merge(rawdata,movie_titles,on=\"item_id\")\n",
        "df.head()"
      ],
      "metadata": {
        "trusted": true,
        "id": "EwltqlYROUEp"
      },
      "execution_count": null,
      "outputs": []
    },
    {
      "cell_type": "code",
      "source": [
        "df.groupby(\"title\")[\"rating\"].mean().sort_values(ascending=False)"
      ],
      "metadata": {
        "execution": {
          "iopub.status.busy": "2022-02-11T08:19:44.615851Z",
          "iopub.execute_input": "2022-02-11T08:19:44.616349Z",
          "iopub.status.idle": "2022-02-11T08:19:44.646484Z",
          "shell.execute_reply.started": "2022-02-11T08:19:44.616295Z",
          "shell.execute_reply": "2022-02-11T08:19:44.64544Z"
        },
        "trusted": true,
        "id": "6aQb8kr7OUEp"
      },
      "execution_count": null,
      "outputs": []
    },
    {
      "cell_type": "code",
      "source": [
        "ratings=pd.DataFrame(df.groupby(\"title\")[\"rating\"].mean())"
      ],
      "metadata": {
        "trusted": true,
        "id": "ohpMRYkLOUEq"
      },
      "execution_count": 11,
      "outputs": []
    },
    {
      "cell_type": "code",
      "source": [
        "ratings[\"no_of_ratings\"]=pd.DataFrame(df.groupby(\"title\")[\"rating\"].count())"
      ],
      "metadata": {
        "execution": {
          "iopub.status.busy": "2022-02-11T08:19:44.670978Z",
          "iopub.execute_input": "2022-02-11T08:19:44.671207Z",
          "iopub.status.idle": "2022-02-11T08:19:44.693543Z",
          "shell.execute_reply.started": "2022-02-11T08:19:44.671177Z",
          "shell.execute_reply": "2022-02-11T08:19:44.69284Z"
        },
        "trusted": true,
        "id": "iq2zwAF5OUEq"
      },
      "execution_count": 12,
      "outputs": []
    },
    {
      "cell_type": "code",
      "source": [
        "moviemat = df.pivot_table(index=\"user_id\",columns=\"title\",values=\"rating\")"
      ],
      "metadata": {
        "execution": {
          "iopub.status.busy": "2022-02-11T08:19:56.407974Z",
          "iopub.execute_input": "2022-02-11T08:19:56.408884Z",
          "iopub.status.idle": "2022-02-11T08:19:56.559577Z",
          "shell.execute_reply.started": "2022-02-11T08:19:56.408835Z",
          "shell.execute_reply": "2022-02-11T08:19:56.558492Z"
        },
        "trusted": true,
        "id": "HwwK0yqCOUEq"
      },
      "execution_count": 13,
      "outputs": []
    },
    {
      "cell_type": "code",
      "source": [
        "moviemat"
      ],
      "metadata": {
        "execution": {
          "iopub.status.busy": "2022-02-11T08:19:56.561002Z",
          "iopub.execute_input": "2022-02-11T08:19:56.561445Z",
          "iopub.status.idle": "2022-02-11T08:19:56.60098Z",
          "shell.execute_reply.started": "2022-02-11T08:19:56.561413Z",
          "shell.execute_reply": "2022-02-11T08:19:56.600268Z"
        },
        "trusted": true,
        "id": "9US4EIMTOUEq"
      },
      "execution_count": null,
      "outputs": []
    },
    {
      "cell_type": "code",
      "source": [
        "ratings.sort_values(\"no_of_ratings\",ascending=False).head()"
      ],
      "metadata": {
        "execution": {
          "iopub.status.busy": "2022-02-11T08:19:56.602621Z",
          "iopub.execute_input": "2022-02-11T08:19:56.603011Z",
          "iopub.status.idle": "2022-02-11T08:19:56.614159Z",
          "shell.execute_reply.started": "2022-02-11T08:19:56.602975Z",
          "shell.execute_reply": "2022-02-11T08:19:56.613445Z"
        },
        "trusted": true,
        "id": "igiL1jiROUEq"
      },
      "execution_count": null,
      "outputs": []
    },
    {
      "cell_type": "code",
      "source": [
        "star_wars_rating = moviemat[\"Star Wars (1977)\"]\n",
        "star_wars_rating.head()"
      ],
      "metadata": {
        "execution": {
          "iopub.status.busy": "2022-02-11T08:19:56.760957Z",
          "iopub.execute_input": "2022-02-11T08:19:56.761588Z",
          "iopub.status.idle": "2022-02-11T08:19:56.773009Z",
          "shell.execute_reply.started": "2022-02-11T08:19:56.761546Z",
          "shell.execute_reply": "2022-02-11T08:19:56.772046Z"
        },
        "trusted": true,
        "id": "MeiWU7Z9OUEq"
      },
      "execution_count": null,
      "outputs": []
    },
    {
      "cell_type": "code",
      "source": [
        "similar_to_starwars=moviemat.corrwith(star_wars_rating)"
      ],
      "metadata": {
        "execution": {
          "iopub.status.busy": "2022-02-11T08:19:57.060861Z",
          "iopub.execute_input": "2022-02-11T08:19:57.061826Z",
          "iopub.status.idle": "2022-02-11T08:19:57.541485Z",
          "shell.execute_reply.started": "2022-02-11T08:19:57.061771Z",
          "shell.execute_reply": "2022-02-11T08:19:57.540454Z"
        },
        "trusted": true,
        "id": "TdrDY0NUOUEr"
      },
      "execution_count": 17,
      "outputs": []
    },
    {
      "cell_type": "code",
      "source": [
        "similar_to_starwars"
      ],
      "metadata": {
        "execution": {
          "iopub.status.busy": "2022-02-11T08:19:57.543727Z",
          "iopub.execute_input": "2022-02-11T08:19:57.544066Z",
          "iopub.status.idle": "2022-02-11T08:19:57.554752Z",
          "shell.execute_reply.started": "2022-02-11T08:19:57.544022Z",
          "shell.execute_reply": "2022-02-11T08:19:57.553642Z"
        },
        "trusted": true,
        "id": "KSDcFLZ1OUEr"
      },
      "execution_count": null,
      "outputs": []
    },
    {
      "cell_type": "code",
      "source": [
        "corr_starwars =pd.DataFrame(similar_to_starwars,columns=[\"correlation\"])"
      ],
      "metadata": {
        "execution": {
          "iopub.status.busy": "2022-02-11T08:19:57.749569Z",
          "iopub.execute_input": "2022-02-11T08:19:57.749912Z",
          "iopub.status.idle": "2022-02-11T08:19:57.755669Z",
          "shell.execute_reply.started": "2022-02-11T08:19:57.749878Z",
          "shell.execute_reply": "2022-02-11T08:19:57.754721Z"
        },
        "trusted": true,
        "id": "rYRg0FeeOUEr"
      },
      "execution_count": 19,
      "outputs": []
    },
    {
      "cell_type": "code",
      "source": [
        "corr_starwars.dropna(inplace=True)\n",
        "corr_starwars.sort_values(\"correlation\",ascending=False)"
      ],
      "metadata": {
        "execution": {
          "iopub.status.busy": "2022-02-11T08:19:58.251635Z",
          "iopub.execute_input": "2022-02-11T08:19:58.251909Z",
          "iopub.status.idle": "2022-02-11T08:19:58.26745Z",
          "shell.execute_reply.started": "2022-02-11T08:19:58.251879Z",
          "shell.execute_reply": "2022-02-11T08:19:58.266461Z"
        },
        "trusted": true,
        "id": "E7I_s0kuOUEr"
      },
      "execution_count": null,
      "outputs": []
    },
    {
      "cell_type": "code",
      "source": [
        "corr_starwars=corr_starwars.join(ratings[\"no_of_ratings\"])"
      ],
      "metadata": {
        "execution": {
          "iopub.status.busy": "2022-02-11T08:19:58.760643Z",
          "iopub.execute_input": "2022-02-11T08:19:58.76159Z",
          "iopub.status.idle": "2022-02-11T08:19:58.772612Z",
          "shell.execute_reply.started": "2022-02-11T08:19:58.761484Z",
          "shell.execute_reply": "2022-02-11T08:19:58.771917Z"
        },
        "trusted": true,
        "id": "hSKrgoTxOUEr"
      },
      "execution_count": 21,
      "outputs": []
    },
    {
      "cell_type": "code",
      "source": [
        "corr_starwars[corr_starwars[\"no_of_ratings\"]>100].sort_values(\"correlation\",ascending=False)"
      ],
      "metadata": {
        "execution": {
          "iopub.status.busy": "2022-02-11T08:19:59.371607Z",
          "iopub.execute_input": "2022-02-11T08:19:59.372192Z",
          "iopub.status.idle": "2022-02-11T08:19:59.387686Z",
          "shell.execute_reply.started": "2022-02-11T08:19:59.372147Z",
          "shell.execute_reply": "2022-02-11T08:19:59.387045Z"
        },
        "trusted": true,
        "id": "pwxKb7PiOUEr"
      },
      "execution_count": null,
      "outputs": []
    },
    {
      "cell_type": "code",
      "source": [
        "def predict_movies(movie_name):\n",
        "    movie_rating = moviemat[movie_name]\n",
        "    similar_to_movie=moviemat.corrwith(movie_rating)\n",
        "    corr_movie =pd.DataFrame(similar_to_movie,columns=[\"correlation\"])\n",
        "    corr_movie.dropna(inplace=True)\n",
        "    corr_movie.sort_values(\"correlation\",ascending=False)\n",
        "    corr_movie=corr_movie.join(ratings[\"no_of_ratings\"])\n",
        "    predictions = corr_movie[corr_movie[\"no_of_ratings\"]>100].sort_values(\"correlation\",ascending=False)\n",
        "    \n",
        "    return predictions"
      ],
      "metadata": {
        "execution": {
          "iopub.status.busy": "2022-02-11T08:20:00.362497Z",
          "iopub.execute_input": "2022-02-11T08:20:00.363072Z",
          "iopub.status.idle": "2022-02-11T08:20:00.370022Z",
          "shell.execute_reply.started": "2022-02-11T08:20:00.363028Z",
          "shell.execute_reply": "2022-02-11T08:20:00.369173Z"
        },
        "trusted": true,
        "id": "GR6i01dhOUEr"
      },
      "execution_count": 23,
      "outputs": []
    },
    {
      "cell_type": "code",
      "source": [
        "predictions = predict_movies(\"First Wives Club, The (1996)\")"
      ],
      "metadata": {
        "execution": {
          "iopub.status.busy": "2022-02-11T08:20:35.744956Z",
          "iopub.execute_input": "2022-02-11T08:20:35.74612Z",
          "iopub.status.idle": "2022-02-11T08:20:36.215602Z",
          "shell.execute_reply.started": "2022-02-11T08:20:35.746053Z",
          "shell.execute_reply": "2022-02-11T08:20:36.214773Z"
        },
        "trusted": true,
        "id": "q5PKGt2ZOUEr"
      },
      "execution_count": 24,
      "outputs": []
    },
    {
      "cell_type": "code",
      "source": [
        "predictions.head()"
      ],
      "metadata": {
        "execution": {
          "iopub.status.busy": "2022-02-11T08:20:50.065514Z",
          "iopub.execute_input": "2022-02-11T08:20:50.06604Z",
          "iopub.status.idle": "2022-02-11T08:20:50.077409Z",
          "shell.execute_reply.started": "2022-02-11T08:20:50.066001Z",
          "shell.execute_reply": "2022-02-11T08:20:50.0763Z"
        },
        "trusted": true,
        "id": "zh_hpm4LOUEs"
      },
      "execution_count": null,
      "outputs": []
    }
  ]
}